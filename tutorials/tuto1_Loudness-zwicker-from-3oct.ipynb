{
 "cells": [
  {
   "cell_type": "markdown",
   "metadata": {},
   "source": [
    "# How to calculate Zwicker loudness from third octave band spectrum (steady signal)"
   ]
  },
  {
   "cell_type": "markdown",
   "metadata": {},
   "source": [
    "MoSQITo is a unified and modular development framework of key sound quality metrics favoring reproducible science and efficient shared scripting among engineers, teachers and researchers community.\n",
    "\n",
    "This tutorial explains how to calculate the acoustic loudness (Zwicker method) of a steady signal from its third octave band spectrum."
   ]
  },
  {
   "cell_type": "code",
   "execution_count": 1,
   "metadata": {},
   "outputs": [],
   "source": [
    "# Set the Python path into Mosqito\n",
    "import sys\n",
    "sys.path.append('..')\n",
    "\n",
    "# Useful library imports\n",
    "import numpy as np\n",
    "\n",
    "# local applications imports\n",
    "from mosqito.Classes.Audio_signal import Audio_signal"
   ]
  },
  {
   "cell_type": "markdown",
   "metadata": {},
   "source": [
    "First a third octave band spectrum is defined. The spectrum shall include 28 third octave levels from 25 Hz to 12500 Hz in dB re. $2.10^{-5}$ Pa. \n",
    "For the tutorial, the test signal from ISO 532-1 annex B2 is used (machinery noise in free field). "
   ]
  },
  {
   "cell_type": "code",
   "execution_count": 2,
   "metadata": {},
   "outputs": [],
   "source": [
    "# Third octave levels as input for stationary loudness\n",
    "# (from ISO 532-1 annex B2)\n",
    "test_signal_1 = np.array([\n",
    "    -60,\n",
    "    -60,\n",
    "    78,\n",
    "    79,\n",
    "    89,\n",
    "    72,\n",
    "    80,\n",
    "    89,\n",
    "    75,\n",
    "    87,\n",
    "    85,\n",
    "    79,\n",
    "    86,\n",
    "    80,\n",
    "    71,\n",
    "    70,\n",
    "    72,\n",
    "    71,\n",
    "    72,\n",
    "    74,\n",
    "    69,\n",
    "    65,\n",
    "    67,\n",
    "    77,\n",
    "    68,\n",
    "    58,\n",
    "    45,\n",
    "    30])"
   ]
  },
  {
   "cell_type": "markdown",
   "metadata": {},
   "source": [
    "The audio signal object to be analyzed is created according to the \"Audio_signal\" class which uses 3 parameters : the signal type, its path, its spectrum. Here we are using a third octave band spectrum as an entry so the path is set to ' '. "
   ]
  },
  {
   "cell_type": "code",
   "execution_count": 3,
   "metadata": {},
   "outputs": [],
   "source": [
    "audio = Audio_signal('stationary','',test_signal_1)    "
   ]
  },
  {
   "cell_type": "markdown",
   "metadata": {},
   "source": [
    "Then, we calculate the loudness according to the Zwicker method."
   ]
  },
  {
   "cell_type": "code",
   "execution_count": 4,
   "metadata": {},
   "outputs": [
    {
     "name": "stdout",
     "output_type": "stream",
     "text": [
      "Loudness: 82.63 sones\n"
     ]
    }
   ],
   "source": [
    "audio.comp_loudness()"
   ]
  },
  {
   "cell_type": "markdown",
   "metadata": {},
   "source": [
    "Finally, we can plot the loudness depending on the frequency/bark values."
   ]
  },
  {
   "cell_type": "code",
   "execution_count": 5,
   "metadata": {
    "scrolled": true
   },
   "outputs": [
    {
     "name": "stdout",
     "output_type": "stream",
     "text": [
      "  agg_filter: a filter function, which takes a (m, n, 3) float array and a dpi value, and returns a (m, n, 3) array\n",
      "  alpha: float or None\n",
      "  animated: bool\n",
      "  clip_box: `.Bbox`\n",
      "  clip_on: bool\n",
      "  clip_path: Patch or (Path, Transform) or None\n",
      "  contains: unknown\n",
      "  figure: `.Figure`\n",
      "  gid: str\n",
      "  in_layout: bool\n",
      "  label: str\n",
      "  label1: str\n",
      "  label2: str\n",
      "  pad: float\n",
      "  path_effects: `.AbstractPathEffect`\n",
      "  picker: None or bool or callable\n",
      "  rasterized: bool or None\n",
      "  sketch_params: (scale: float, length: float, randomness: float)\n",
      "  snap: bool or None\n",
      "  transform: `.Transform`\n",
      "  url: str\n",
      "  visible: bool\n",
      "  zorder: float\n"
     ]
    },
    {
     "data": {
      "text/plain": [
       "<Figure size 432x288 with 0 Axes>"
      ]
     },
     "metadata": {},
     "output_type": "display_data"
    },
    {
     "data": {
      "image/png": "[encoded data removed]",
      "text/plain": [
       "<Figure size 432x288 with 1 Axes>"
      ]
     },
     "metadata": {
      "needs_background": "light"
     },
     "output_type": "display_data"
    }
   ],
   "source": [
    "audio.plot_loudness()"
   ]
  }
 ],
 "metadata": {
  "kernelspec": {
   "display_name": "Python 3",
   "language": "python",
   "name": "python3"
  },
  "language_info": {
   "codemirror_mode": {
    "name": "ipython",
    "version": 3
   },
   "file_extension": ".py",
   "mimetype": "text/x-python",
   "name": "python",
   "nbconvert_exporter": "python",
   "pygments_lexer": "ipython3",
   "version": "3.8.5"
  }
 },
 "nbformat": 4,
 "nbformat_minor": 4
}
